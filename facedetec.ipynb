{
  "nbformat": 4,
  "nbformat_minor": 0,
  "metadata": {
    "colab": {
      "provenance": [],
      "gpuType": "T4"
    },
    "kernelspec": {
      "name": "python3",
      "display_name": "Python 3"
    },
    "language_info": {
      "name": "python"
    },
    "accelerator": "GPU"
  },
  "cells": [
    {
      "cell_type": "code",
      "execution_count": null,
      "metadata": {
        "colab": {
          "base_uri": "https://localhost:8080/",
          "height": 73
        },
        "id": "d3Ja_tytlDum",
        "outputId": "6dd058ea-97e6-47f2-a2f5-c044de0303a3"
      },
      "outputs": [
        {
          "output_type": "display_data",
          "data": {
            "text/plain": [
              "<IPython.core.display.HTML object>"
            ],
            "text/html": [
              "\n",
              "     <input type=\"file\" id=\"files-750652da-7197-48ff-aa7e-c0423fd7673f\" name=\"files[]\" multiple disabled\n",
              "        style=\"border:none\" />\n",
              "     <output id=\"result-750652da-7197-48ff-aa7e-c0423fd7673f\">\n",
              "      Upload widget is only available when the cell has been executed in the\n",
              "      current browser session. Please rerun this cell to enable.\n",
              "      </output>\n",
              "      <script>// Copyright 2017 Google LLC\n",
              "//\n",
              "// Licensed under the Apache License, Version 2.0 (the \"License\");\n",
              "// you may not use this file except in compliance with the License.\n",
              "// You may obtain a copy of the License at\n",
              "//\n",
              "//      http://www.apache.org/licenses/LICENSE-2.0\n",
              "//\n",
              "// Unless required by applicable law or agreed to in writing, software\n",
              "// distributed under the License is distributed on an \"AS IS\" BASIS,\n",
              "// WITHOUT WARRANTIES OR CONDITIONS OF ANY KIND, either express or implied.\n",
              "// See the License for the specific language governing permissions and\n",
              "// limitations under the License.\n",
              "\n",
              "/**\n",
              " * @fileoverview Helpers for google.colab Python module.\n",
              " */\n",
              "(function(scope) {\n",
              "function span(text, styleAttributes = {}) {\n",
              "  const element = document.createElement('span');\n",
              "  element.textContent = text;\n",
              "  for (const key of Object.keys(styleAttributes)) {\n",
              "    element.style[key] = styleAttributes[key];\n",
              "  }\n",
              "  return element;\n",
              "}\n",
              "\n",
              "// Max number of bytes which will be uploaded at a time.\n",
              "const MAX_PAYLOAD_SIZE = 100 * 1024;\n",
              "\n",
              "function _uploadFiles(inputId, outputId) {\n",
              "  const steps = uploadFilesStep(inputId, outputId);\n",
              "  const outputElement = document.getElementById(outputId);\n",
              "  // Cache steps on the outputElement to make it available for the next call\n",
              "  // to uploadFilesContinue from Python.\n",
              "  outputElement.steps = steps;\n",
              "\n",
              "  return _uploadFilesContinue(outputId);\n",
              "}\n",
              "\n",
              "// This is roughly an async generator (not supported in the browser yet),\n",
              "// where there are multiple asynchronous steps and the Python side is going\n",
              "// to poll for completion of each step.\n",
              "// This uses a Promise to block the python side on completion of each step,\n",
              "// then passes the result of the previous step as the input to the next step.\n",
              "function _uploadFilesContinue(outputId) {\n",
              "  const outputElement = document.getElementById(outputId);\n",
              "  const steps = outputElement.steps;\n",
              "\n",
              "  const next = steps.next(outputElement.lastPromiseValue);\n",
              "  return Promise.resolve(next.value.promise).then((value) => {\n",
              "    // Cache the last promise value to make it available to the next\n",
              "    // step of the generator.\n",
              "    outputElement.lastPromiseValue = value;\n",
              "    return next.value.response;\n",
              "  });\n",
              "}\n",
              "\n",
              "/**\n",
              " * Generator function which is called between each async step of the upload\n",
              " * process.\n",
              " * @param {string} inputId Element ID of the input file picker element.\n",
              " * @param {string} outputId Element ID of the output display.\n",
              " * @return {!Iterable<!Object>} Iterable of next steps.\n",
              " */\n",
              "function* uploadFilesStep(inputId, outputId) {\n",
              "  const inputElement = document.getElementById(inputId);\n",
              "  inputElement.disabled = false;\n",
              "\n",
              "  const outputElement = document.getElementById(outputId);\n",
              "  outputElement.innerHTML = '';\n",
              "\n",
              "  const pickedPromise = new Promise((resolve) => {\n",
              "    inputElement.addEventListener('change', (e) => {\n",
              "      resolve(e.target.files);\n",
              "    });\n",
              "  });\n",
              "\n",
              "  const cancel = document.createElement('button');\n",
              "  inputElement.parentElement.appendChild(cancel);\n",
              "  cancel.textContent = 'Cancel upload';\n",
              "  const cancelPromise = new Promise((resolve) => {\n",
              "    cancel.onclick = () => {\n",
              "      resolve(null);\n",
              "    };\n",
              "  });\n",
              "\n",
              "  // Wait for the user to pick the files.\n",
              "  const files = yield {\n",
              "    promise: Promise.race([pickedPromise, cancelPromise]),\n",
              "    response: {\n",
              "      action: 'starting',\n",
              "    }\n",
              "  };\n",
              "\n",
              "  cancel.remove();\n",
              "\n",
              "  // Disable the input element since further picks are not allowed.\n",
              "  inputElement.disabled = true;\n",
              "\n",
              "  if (!files) {\n",
              "    return {\n",
              "      response: {\n",
              "        action: 'complete',\n",
              "      }\n",
              "    };\n",
              "  }\n",
              "\n",
              "  for (const file of files) {\n",
              "    const li = document.createElement('li');\n",
              "    li.append(span(file.name, {fontWeight: 'bold'}));\n",
              "    li.append(span(\n",
              "        `(${file.type || 'n/a'}) - ${file.size} bytes, ` +\n",
              "        `last modified: ${\n",
              "            file.lastModifiedDate ? file.lastModifiedDate.toLocaleDateString() :\n",
              "                                    'n/a'} - `));\n",
              "    const percent = span('0% done');\n",
              "    li.appendChild(percent);\n",
              "\n",
              "    outputElement.appendChild(li);\n",
              "\n",
              "    const fileDataPromise = new Promise((resolve) => {\n",
              "      const reader = new FileReader();\n",
              "      reader.onload = (e) => {\n",
              "        resolve(e.target.result);\n",
              "      };\n",
              "      reader.readAsArrayBuffer(file);\n",
              "    });\n",
              "    // Wait for the data to be ready.\n",
              "    let fileData = yield {\n",
              "      promise: fileDataPromise,\n",
              "      response: {\n",
              "        action: 'continue',\n",
              "      }\n",
              "    };\n",
              "\n",
              "    // Use a chunked sending to avoid message size limits. See b/62115660.\n",
              "    let position = 0;\n",
              "    do {\n",
              "      const length = Math.min(fileData.byteLength - position, MAX_PAYLOAD_SIZE);\n",
              "      const chunk = new Uint8Array(fileData, position, length);\n",
              "      position += length;\n",
              "\n",
              "      const base64 = btoa(String.fromCharCode.apply(null, chunk));\n",
              "      yield {\n",
              "        response: {\n",
              "          action: 'append',\n",
              "          file: file.name,\n",
              "          data: base64,\n",
              "        },\n",
              "      };\n",
              "\n",
              "      let percentDone = fileData.byteLength === 0 ?\n",
              "          100 :\n",
              "          Math.round((position / fileData.byteLength) * 100);\n",
              "      percent.textContent = `${percentDone}% done`;\n",
              "\n",
              "    } while (position < fileData.byteLength);\n",
              "  }\n",
              "\n",
              "  // All done.\n",
              "  yield {\n",
              "    response: {\n",
              "      action: 'complete',\n",
              "    }\n",
              "  };\n",
              "}\n",
              "\n",
              "scope.google = scope.google || {};\n",
              "scope.google.colab = scope.google.colab || {};\n",
              "scope.google.colab._files = {\n",
              "  _uploadFiles,\n",
              "  _uploadFilesContinue,\n",
              "};\n",
              "})(self);\n",
              "</script> "
            ]
          },
          "metadata": {}
        },
        {
          "output_type": "stream",
          "name": "stdout",
          "text": [
            "Saving facereact.zip to facereact.zip\n"
          ]
        }
      ],
      "source": [
        "from google.colab import files\n",
        "uploaded=files.upload()"
      ]
    },
    {
      "cell_type": "code",
      "source": [
        "import zipfile\n",
        "import os\n",
        "\n",
        "zip_path='/content/facereact.zip'\n",
        "\n",
        "extract_name='/content/face_dataset'\n",
        "with zipfile.ZipFile(zip_path,'r') as zep_ref:\n",
        "  zep_ref.extractall(extract_name)"
      ],
      "metadata": {
        "id": "-GIn1UX3lKNc"
      },
      "execution_count": null,
      "outputs": []
    },
    {
      "cell_type": "code",
      "source": [
        "!pip install ultralytics"
      ],
      "metadata": {
        "colab": {
          "base_uri": "https://localhost:8080/"
        },
        "id": "_r5keJOEyT0m",
        "outputId": "2ab64a9e-35b0-432f-fb2b-0043d4e96875"
      },
      "execution_count": null,
      "outputs": [
        {
          "output_type": "stream",
          "name": "stdout",
          "text": [
            "Collecting ultralytics\n",
            "  Downloading ultralytics-8.3.191-py3-none-any.whl.metadata (37 kB)\n",
            "Requirement already satisfied: numpy>=1.23.0 in /usr/local/lib/python3.12/dist-packages (from ultralytics) (2.0.2)\n",
            "Requirement already satisfied: matplotlib>=3.3.0 in /usr/local/lib/python3.12/dist-packages (from ultralytics) (3.10.0)\n",
            "Requirement already satisfied: opencv-python>=4.6.0 in /usr/local/lib/python3.12/dist-packages (from ultralytics) (4.12.0.88)\n",
            "Requirement already satisfied: pillow>=7.1.2 in /usr/local/lib/python3.12/dist-packages (from ultralytics) (11.3.0)\n",
            "Requirement already satisfied: pyyaml>=5.3.1 in /usr/local/lib/python3.12/dist-packages (from ultralytics) (6.0.2)\n",
            "Requirement already satisfied: requests>=2.23.0 in /usr/local/lib/python3.12/dist-packages (from ultralytics) (2.32.4)\n",
            "Requirement already satisfied: scipy>=1.4.1 in /usr/local/lib/python3.12/dist-packages (from ultralytics) (1.16.1)\n",
            "Requirement already satisfied: torch>=1.8.0 in /usr/local/lib/python3.12/dist-packages (from ultralytics) (2.8.0+cu126)\n",
            "Requirement already satisfied: torchvision>=0.9.0 in /usr/local/lib/python3.12/dist-packages (from ultralytics) (0.23.0+cu126)\n",
            "Requirement already satisfied: psutil in /usr/local/lib/python3.12/dist-packages (from ultralytics) (5.9.5)\n",
            "Requirement already satisfied: py-cpuinfo in /usr/local/lib/python3.12/dist-packages (from ultralytics) (9.0.0)\n",
            "Requirement already satisfied: polars in /usr/local/lib/python3.12/dist-packages (from ultralytics) (1.25.2)\n",
            "Collecting ultralytics-thop>=2.0.0 (from ultralytics)\n",
            "  Downloading ultralytics_thop-2.0.16-py3-none-any.whl.metadata (14 kB)\n",
            "Requirement already satisfied: contourpy>=1.0.1 in /usr/local/lib/python3.12/dist-packages (from matplotlib>=3.3.0->ultralytics) (1.3.3)\n",
            "Requirement already satisfied: cycler>=0.10 in /usr/local/lib/python3.12/dist-packages (from matplotlib>=3.3.0->ultralytics) (0.12.1)\n",
            "Requirement already satisfied: fonttools>=4.22.0 in /usr/local/lib/python3.12/dist-packages (from matplotlib>=3.3.0->ultralytics) (4.59.1)\n",
            "Requirement already satisfied: kiwisolver>=1.3.1 in /usr/local/lib/python3.12/dist-packages (from matplotlib>=3.3.0->ultralytics) (1.4.9)\n",
            "Requirement already satisfied: packaging>=20.0 in /usr/local/lib/python3.12/dist-packages (from matplotlib>=3.3.0->ultralytics) (25.0)\n",
            "Requirement already satisfied: pyparsing>=2.3.1 in /usr/local/lib/python3.12/dist-packages (from matplotlib>=3.3.0->ultralytics) (3.2.3)\n",
            "Requirement already satisfied: python-dateutil>=2.7 in /usr/local/lib/python3.12/dist-packages (from matplotlib>=3.3.0->ultralytics) (2.9.0.post0)\n",
            "Requirement already satisfied: charset_normalizer<4,>=2 in /usr/local/lib/python3.12/dist-packages (from requests>=2.23.0->ultralytics) (3.4.3)\n",
            "Requirement already satisfied: idna<4,>=2.5 in /usr/local/lib/python3.12/dist-packages (from requests>=2.23.0->ultralytics) (3.10)\n",
            "Requirement already satisfied: urllib3<3,>=1.21.1 in /usr/local/lib/python3.12/dist-packages (from requests>=2.23.0->ultralytics) (2.5.0)\n",
            "Requirement already satisfied: certifi>=2017.4.17 in /usr/local/lib/python3.12/dist-packages (from requests>=2.23.0->ultralytics) (2025.8.3)\n",
            "Requirement already satisfied: filelock in /usr/local/lib/python3.12/dist-packages (from torch>=1.8.0->ultralytics) (3.19.1)\n",
            "Requirement already satisfied: typing-extensions>=4.10.0 in /usr/local/lib/python3.12/dist-packages (from torch>=1.8.0->ultralytics) (4.15.0)\n",
            "Requirement already satisfied: setuptools in /usr/local/lib/python3.12/dist-packages (from torch>=1.8.0->ultralytics) (75.2.0)\n",
            "Requirement already satisfied: sympy>=1.13.3 in /usr/local/lib/python3.12/dist-packages (from torch>=1.8.0->ultralytics) (1.13.3)\n",
            "Requirement already satisfied: networkx in /usr/local/lib/python3.12/dist-packages (from torch>=1.8.0->ultralytics) (3.5)\n",
            "Requirement already satisfied: jinja2 in /usr/local/lib/python3.12/dist-packages (from torch>=1.8.0->ultralytics) (3.1.6)\n",
            "Requirement already satisfied: fsspec in /usr/local/lib/python3.12/dist-packages (from torch>=1.8.0->ultralytics) (2025.3.0)\n",
            "Requirement already satisfied: nvidia-cuda-nvrtc-cu12==12.6.77 in /usr/local/lib/python3.12/dist-packages (from torch>=1.8.0->ultralytics) (12.6.77)\n",
            "Requirement already satisfied: nvidia-cuda-runtime-cu12==12.6.77 in /usr/local/lib/python3.12/dist-packages (from torch>=1.8.0->ultralytics) (12.6.77)\n",
            "Requirement already satisfied: nvidia-cuda-cupti-cu12==12.6.80 in /usr/local/lib/python3.12/dist-packages (from torch>=1.8.0->ultralytics) (12.6.80)\n",
            "Requirement already satisfied: nvidia-cudnn-cu12==9.10.2.21 in /usr/local/lib/python3.12/dist-packages (from torch>=1.8.0->ultralytics) (9.10.2.21)\n",
            "Requirement already satisfied: nvidia-cublas-cu12==12.6.4.1 in /usr/local/lib/python3.12/dist-packages (from torch>=1.8.0->ultralytics) (12.6.4.1)\n",
            "Requirement already satisfied: nvidia-cufft-cu12==11.3.0.4 in /usr/local/lib/python3.12/dist-packages (from torch>=1.8.0->ultralytics) (11.3.0.4)\n",
            "Requirement already satisfied: nvidia-curand-cu12==10.3.7.77 in /usr/local/lib/python3.12/dist-packages (from torch>=1.8.0->ultralytics) (10.3.7.77)\n",
            "Requirement already satisfied: nvidia-cusolver-cu12==11.7.1.2 in /usr/local/lib/python3.12/dist-packages (from torch>=1.8.0->ultralytics) (11.7.1.2)\n",
            "Requirement already satisfied: nvidia-cusparse-cu12==12.5.4.2 in /usr/local/lib/python3.12/dist-packages (from torch>=1.8.0->ultralytics) (12.5.4.2)\n",
            "Requirement already satisfied: nvidia-cusparselt-cu12==0.7.1 in /usr/local/lib/python3.12/dist-packages (from torch>=1.8.0->ultralytics) (0.7.1)\n",
            "Requirement already satisfied: nvidia-nccl-cu12==2.27.3 in /usr/local/lib/python3.12/dist-packages (from torch>=1.8.0->ultralytics) (2.27.3)\n",
            "Requirement already satisfied: nvidia-nvtx-cu12==12.6.77 in /usr/local/lib/python3.12/dist-packages (from torch>=1.8.0->ultralytics) (12.6.77)\n",
            "Requirement already satisfied: nvidia-nvjitlink-cu12==12.6.85 in /usr/local/lib/python3.12/dist-packages (from torch>=1.8.0->ultralytics) (12.6.85)\n",
            "Requirement already satisfied: nvidia-cufile-cu12==1.11.1.6 in /usr/local/lib/python3.12/dist-packages (from torch>=1.8.0->ultralytics) (1.11.1.6)\n",
            "Requirement already satisfied: triton==3.4.0 in /usr/local/lib/python3.12/dist-packages (from torch>=1.8.0->ultralytics) (3.4.0)\n",
            "Requirement already satisfied: six>=1.5 in /usr/local/lib/python3.12/dist-packages (from python-dateutil>=2.7->matplotlib>=3.3.0->ultralytics) (1.17.0)\n",
            "Requirement already satisfied: mpmath<1.4,>=1.1.0 in /usr/local/lib/python3.12/dist-packages (from sympy>=1.13.3->torch>=1.8.0->ultralytics) (1.3.0)\n",
            "Requirement already satisfied: MarkupSafe>=2.0 in /usr/local/lib/python3.12/dist-packages (from jinja2->torch>=1.8.0->ultralytics) (3.0.2)\n",
            "Downloading ultralytics-8.3.191-py3-none-any.whl (1.1 MB)\n",
            "\u001b[2K   \u001b[90m━━━━━━━━━━━━━━━━━━━━━━━━━━━━━━━━━━━━━━━━\u001b[0m \u001b[32m1.1/1.1 MB\u001b[0m \u001b[31m25.4 MB/s\u001b[0m eta \u001b[36m0:00:00\u001b[0m\n",
            "\u001b[?25hDownloading ultralytics_thop-2.0.16-py3-none-any.whl (28 kB)\n",
            "Installing collected packages: ultralytics-thop, ultralytics\n",
            "Successfully installed ultralytics-8.3.191 ultralytics-thop-2.0.16\n"
          ]
        }
      ]
    },
    {
      "cell_type": "code",
      "source": [
        "import numpy as np\n",
        "import matplotlib.pyplot as plt\n",
        "import seaborn as sns\n",
        "from sklearn.metrics import classification_report\n",
        "from sklearn.utils.class_weight import compute_class_weight\n",
        "import tensorflow as tf\n",
        "from tensorflow.keras.layers import Conv2D,Dense,Activation,MaxPooling2D,Input,GlobalMaxPooling2D,SeparableConv2D,Dropout,BatchNormalization,Flatten\n",
        "from tensorflow.keras.applications import ResNet50,EfficientNetB0\n",
        "from tensorflow.keras.callbacks import EarlyStopping,ReduceLROnPlateau,ModelCheckpoint,TensorBoard\n",
        "from collections import Counter\n",
        "from ultralytics import YOLO\n",
        "import cv2 as cv"
      ],
      "metadata": {
        "colab": {
          "base_uri": "https://localhost:8080/"
        },
        "id": "QklWXDHFtBco",
        "outputId": "18162cc3-029a-4fce-b359-a9aec7f2b5a8"
      },
      "execution_count": null,
      "outputs": [
        {
          "output_type": "stream",
          "name": "stdout",
          "text": [
            "Creating new Ultralytics Settings v0.0.6 file ✅ \n",
            "View Ultralytics Settings with 'yolo settings' or at '/root/.config/Ultralytics/settings.json'\n",
            "Update Settings with 'yolo settings key=value', i.e. 'yolo settings runs_dir=path/to/dir'. For help see https://docs.ultralytics.com/quickstart/#ultralytics-settings.\n"
          ]
        }
      ]
    },
    {
      "cell_type": "code",
      "source": [
        "path_train='/content/face_dataset/train'\n",
        "path_test='/content/face_dataset/test'\n",
        "img_size=48\n",
        "batch=32\n",
        "train,val=tf.keras.utils.image_dataset_from_directory(path_train,batch_size=batch,image_size=(img_size,img_size),validation_split=0.2,subset='both',seed=42,color_mode='grayscale')\n",
        "test=tf.keras.utils.image_dataset_from_directory(path_test,batch_size=batch,image_size=(img_size,img_size),seed=42,shuffle=False,color_mode='grayscale')"
      ],
      "metadata": {
        "colab": {
          "base_uri": "https://localhost:8080/"
        },
        "id": "NnToWj_YyS_M",
        "outputId": "ed21fbaa-28b5-4f8b-fb1d-8f1aad0a79d1"
      },
      "execution_count": null,
      "outputs": [
        {
          "output_type": "stream",
          "name": "stdout",
          "text": [
            "Found 25102 files belonging to 5 classes.\n",
            "Using 20082 files for training.\n",
            "Using 5020 files for validation.\n",
            "Found 6236 files belonging to 5 classes.\n"
          ]
        }
      ]
    },
    {
      "cell_type": "code",
      "source": [
        "class_names=train.class_names\n",
        "class_names"
      ],
      "metadata": {
        "colab": {
          "base_uri": "https://localhost:8080/"
        },
        "id": "wF3IvNN6w3LK",
        "outputId": "082b5860-4236-48c1-ad52-4ddf2b29b4e8"
      },
      "execution_count": null,
      "outputs": [
        {
          "output_type": "execute_result",
          "data": {
            "text/plain": [
              "['angry', 'fear', 'happy', 'neutral', 'sad']"
            ]
          },
          "metadata": {},
          "execution_count": 6
        }
      ]
    },
    {
      "cell_type": "code",
      "source": [
        "augment = tf.keras.Sequential([\n",
        "\n",
        "    tf.keras.layers.RandomRotation(0.1),\n",
        "    tf.keras.layers.RandomZoom(0.1),\n",
        "\n",
        "    ])"
      ],
      "metadata": {
        "id": "ucGpgjtYzu3t"
      },
      "execution_count": null,
      "outputs": []
    },
    {
      "cell_type": "code",
      "source": [
        "\n",
        "counter = Counter()\n",
        "for images, labels in train:\n",
        "\n",
        "    counter.update(labels.numpy())\n",
        "\n",
        "for i, cls in enumerate(class_names):\n",
        "    print(f\"Class {cls}: {counter[i]} images\")"
      ],
      "metadata": {
        "colab": {
          "base_uri": "https://localhost:8080/"
        },
        "id": "z0646Q3b2Hs4",
        "outputId": "be5dc4f0-59b8-4dae-bfd6-51c9fa5887ea"
      },
      "execution_count": null,
      "outputs": [
        {
          "output_type": "stream",
          "name": "stdout",
          "text": [
            "Class angry: 3212 images\n",
            "Class fear: 3287 images\n",
            "Class happy: 5813 images\n",
            "Class neutral: 3961 images\n",
            "Class sad: 3809 images\n"
          ]
        }
      ]
    },
    {
      "cell_type": "code",
      "source": [
        "labels = []\n",
        "for _, batch_labels in train:\n",
        "    labels.extend(batch_labels.numpy())\n",
        "labels = np.array(labels)\n",
        "classes = np.unique(labels)\n",
        "class_weights = compute_class_weight(\n",
        "    class_weight='balanced',\n",
        "    classes=classes,\n",
        "    y=labels\n",
        ")\n",
        "class_weights = dict(zip(classes, class_weights))\n",
        "print(\"Class weights:\", class_weights)"
      ],
      "metadata": {
        "colab": {
          "base_uri": "https://localhost:8080/"
        },
        "id": "E8ZLhD-J2eFF",
        "outputId": "2e980f18-3990-4043-987b-78825bf17ffd"
      },
      "execution_count": null,
      "outputs": [
        {
          "output_type": "stream",
          "name": "stdout",
          "text": [
            "Class weights: {np.int32(0): np.float64(1.2504358655043586), np.int32(1): np.float64(1.2219044721630665), np.int32(2): np.float64(0.6909341131945639), np.int32(3): np.float64(1.0139863670790203), np.int32(4): np.float64(1.0544499868731951)}\n"
          ]
        }
      ]
    },
    {
      "cell_type": "code",
      "source": [
        "def preprocessing(image, label):\n",
        "\n",
        "    image = tf.cast(image, tf.float32) / 255.0\n",
        "\n",
        "    return image, label\n"
      ],
      "metadata": {
        "id": "GKyFjVmp3Z9Z"
      },
      "execution_count": null,
      "outputs": []
    },
    {
      "cell_type": "code",
      "source": [
        "train=train.map(preprocessing, num_parallel_calls=tf.data.AUTOTUNE).prefetch(tf.data.AUTOTUNE)\n",
        "val=val.map(preprocessing, num_parallel_calls=tf.data.AUTOTUNE).prefetch(tf.data.AUTOTUNE)\n",
        "test=test.map(preprocessing, num_parallel_calls=tf.data.AUTOTUNE).prefetch(tf.data.AUTOTUNE)"
      ],
      "metadata": {
        "id": "oL6rljoN6nOO"
      },
      "execution_count": null,
      "outputs": []
    },
    {
      "cell_type": "code",
      "source": [
        "for image,label in train.take(1):\n",
        "  plt.figure(figsize=(20,20))\n",
        "  for i in range(9):\n",
        "    plt.subplot(3,3,i+1)\n",
        "    plt.imshow(image[i])\n",
        "    plt.title(class_names[label[i]])\n",
        "    plt.axis('off')\n",
        "plt.show()"
      ],
      "metadata": {
        "colab": {
          "base_uri": "https://localhost:8080/",
          "height": 1000
        },
        "id": "YNBJJWFW7MJD",
        "outputId": "58a0485f-8eee-40d2-dede-c0ce34e5301c"
      },
      "execution_count": null,
      "outputs": [
        {
          "output_type": "display_data",
          "data": {
            "text/plain": [
              "<Figure size 2000x2000 with 9 Axes>"
            ],
            "image/png": "[encoded data removed]"
          },
          "metadata": {}
        }
      ]
    },
    {
      "cell_type": "code",
      "source": [
        "from google.colab import drive\n",
        "drive.mount('/content/drive')\n"
      ],
      "metadata": {
        "colab": {
          "base_uri": "https://localhost:8080/"
        },
        "id": "NrdIn3SkAnuR",
        "outputId": "e8dea9fd-9283-42ad-faa8-954da7156099"
      },
      "execution_count": null,
      "outputs": [
        {
          "output_type": "stream",
          "name": "stdout",
          "text": [
            "Mounted at /content/drive\n"
          ]
        }
      ]
    },
    {
      "cell_type": "code",
      "source": [
        "earlystop=EarlyStopping(verbose=1,patience=4)\n",
        "red=ReduceLROnPlateau(patience=4)\n",
        "checkpoint=ModelCheckpoint('/content/drive/MyDrive/bestface_model.keras',verbose=1,save_best_only=True)\n",
        "tnsbord=TensorBoard(histogram_freq=1)\n",
        "callbacks = [earlystop, red, checkpoint, tnsbord]"
      ],
      "metadata": {
        "id": "sSOPR-iG-yII"
      },
      "execution_count": null,
      "outputs": []
    },
    {
      "cell_type": "code",
      "source": [
        "def repeat_channels(x):\n",
        "    return tf.repeat(x, repeats=3, axis=-1)\n",
        "\n",
        "inputs = Input(shape=(48,48,1))\n",
        "x = augment(inputs)\n",
        "x=tf.keras.layers.Lambda(repeat_channels)(x)\n",
        "base = ResNet50(weights='imagenet', include_top=False, input_tensor=x)\n",
        "for layer in base.layers:\n",
        "    layer.trainable = False\n",
        "x = base.output\n",
        "x = tf.keras.layers.GlobalAveragePooling2D()(x)\n",
        "x = tf.keras.layers.Dropout(0.4)(x)\n",
        "x = Dense(128, activation='relu')(x)\n",
        "outputs = Dense(len(class_names), activation='softmax')(x)\n",
        "\n",
        "model = tf.keras.models.Model(inputs, outputs)\n",
        "\n"
      ],
      "metadata": {
        "id": "Qp7lFHknBGZ7",
        "colab": {
          "base_uri": "https://localhost:8080/"
        },
        "outputId": "77789dc5-7cf9-49a2-cafe-cfe942f47d65"
      },
      "execution_count": null,
      "outputs": [
        {
          "output_type": "stream",
          "name": "stdout",
          "text": [
            "Downloading data from https://storage.googleapis.com/tensorflow/keras-applications/resnet/resnet50_weights_tf_dim_ordering_tf_kernels_notop.h5\n",
            "\u001b[1m94765736/94765736\u001b[0m \u001b[32m━━━━━━━━━━━━━━━━━━━━\u001b[0m\u001b[37m\u001b[0m \u001b[1m1s\u001b[0m 0us/step\n"
          ]
        }
      ]
    },
    {
      "cell_type": "code",
      "source": [
        "model.compile(optimizer=tf.keras.optimizers.Adam(0.001),\n",
        "              loss='sparse_categorical_crossentropy',\n",
        "              metrics=['accuracy'])"
      ],
      "metadata": {
        "id": "696lZBOxC8kT"
      },
      "execution_count": null,
      "outputs": []
    },
    {
      "cell_type": "code",
      "source": [
        "model.fit(train,validation_data=val,epochs=10,class_weight=class_weights,callbacks=callbacks)"
      ],
      "metadata": {
        "colab": {
          "base_uri": "https://localhost:8080/"
        },
        "id": "bcXF9gFyDlqO",
        "outputId": "753ccd83-932b-4431-c350-fb7fae42daed"
      },
      "execution_count": null,
      "outputs": [
        {
          "output_type": "stream",
          "name": "stdout",
          "text": [
            "Epoch 1/10\n",
            "\u001b[1m628/628\u001b[0m \u001b[32m━━━━━━━━━━━━━━━━━━━━\u001b[0m\u001b[37m\u001b[0m \u001b[1m0s\u001b[0m 22ms/step - accuracy: 0.2076 - loss: 1.6700\n",
            "Epoch 1: val_loss improved from inf to 1.60842, saving model to /content/drive/MyDrive/bestface_model.keras\n",
            "\u001b[1m628/628\u001b[0m \u001b[32m━━━━━━━━━━━━━━━━━━━━\u001b[0m\u001b[37m\u001b[0m \u001b[1m41s\u001b[0m 46ms/step - accuracy: 0.2076 - loss: 1.6700 - val_accuracy: 0.1799 - val_loss: 1.6084 - learning_rate: 0.0010\n",
            "Epoch 2/10\n",
            "\u001b[1m627/628\u001b[0m \u001b[32m━━━━━━━━━━━━━━━━━━━\u001b[0m\u001b[37m━\u001b[0m \u001b[1m0s\u001b[0m 26ms/step - accuracy: 0.2052 - loss: 1.6119\n",
            "Epoch 2: val_loss did not improve from 1.60842\n",
            "\u001b[1m628/628\u001b[0m \u001b[32m━━━━━━━━━━━━━━━━━━━━\u001b[0m\u001b[37m\u001b[0m \u001b[1m25s\u001b[0m 40ms/step - accuracy: 0.2053 - loss: 1.6119 - val_accuracy: 0.2468 - val_loss: 1.6099 - learning_rate: 0.0010\n",
            "Epoch 3/10\n",
            "\u001b[1m627/628\u001b[0m \u001b[32m━━━━━━━━━━━━━━━━━━━\u001b[0m\u001b[37m━\u001b[0m \u001b[1m0s\u001b[0m 21ms/step - accuracy: 0.2203 - loss: 1.6105\n",
            "Epoch 3: val_loss did not improve from 1.60842\n",
            "\u001b[1m628/628\u001b[0m \u001b[32m━━━━━━━━━━━━━━━━━━━━\u001b[0m\u001b[37m\u001b[0m \u001b[1m38s\u001b[0m 35ms/step - accuracy: 0.2203 - loss: 1.6105 - val_accuracy: 0.2157 - val_loss: 1.6091 - learning_rate: 0.0010\n",
            "Epoch 4/10\n",
            "\u001b[1m628/628\u001b[0m \u001b[32m━━━━━━━━━━━━━━━━━━━━\u001b[0m\u001b[37m\u001b[0m \u001b[1m0s\u001b[0m 21ms/step - accuracy: 0.2410 - loss: 1.6072\n",
            "Epoch 4: val_loss improved from 1.60842 to 1.60467, saving model to /content/drive/MyDrive/bestface_model.keras\n",
            "\u001b[1m628/628\u001b[0m \u001b[32m━━━━━━━━━━━━━━━━━━━━\u001b[0m\u001b[37m\u001b[0m \u001b[1m25s\u001b[0m 40ms/step - accuracy: 0.2410 - loss: 1.6072 - val_accuracy: 0.2367 - val_loss: 1.6047 - learning_rate: 0.0010\n",
            "Epoch 5/10\n",
            "\u001b[1m628/628\u001b[0m \u001b[32m━━━━━━━━━━━━━━━━━━━━\u001b[0m\u001b[37m\u001b[0m \u001b[1m0s\u001b[0m 21ms/step - accuracy: 0.2207 - loss: 1.6074\n",
            "Epoch 5: val_loss did not improve from 1.60467\n",
            "\u001b[1m628/628\u001b[0m \u001b[32m━━━━━━━━━━━━━━━━━━━━\u001b[0m\u001b[37m\u001b[0m \u001b[1m38s\u001b[0m 35ms/step - accuracy: 0.2207 - loss: 1.6074 - val_accuracy: 0.2046 - val_loss: 1.6087 - learning_rate: 0.0010\n",
            "Epoch 6/10\n",
            "\u001b[1m627/628\u001b[0m \u001b[32m━━━━━━━━━━━━━━━━━━━\u001b[0m\u001b[37m━\u001b[0m \u001b[1m0s\u001b[0m 21ms/step - accuracy: 0.2320 - loss: 1.6062\n",
            "Epoch 6: val_loss did not improve from 1.60467\n",
            "\u001b[1m628/628\u001b[0m \u001b[32m━━━━━━━━━━━━━━━━━━━━\u001b[0m\u001b[37m\u001b[0m \u001b[1m23s\u001b[0m 36ms/step - accuracy: 0.2320 - loss: 1.6062 - val_accuracy: 0.2122 - val_loss: 1.6135 - learning_rate: 0.0010\n",
            "Epoch 7/10\n",
            "\u001b[1m627/628\u001b[0m \u001b[32m━━━━━━━━━━━━━━━━━━━\u001b[0m\u001b[37m━\u001b[0m \u001b[1m0s\u001b[0m 21ms/step - accuracy: 0.2393 - loss: 1.6038\n",
            "Epoch 7: val_loss did not improve from 1.60467\n",
            "\u001b[1m628/628\u001b[0m \u001b[32m━━━━━━━━━━━━━━━━━━━━\u001b[0m\u001b[37m\u001b[0m \u001b[1m23s\u001b[0m 37ms/step - accuracy: 0.2393 - loss: 1.6038 - val_accuracy: 0.2285 - val_loss: 1.6073 - learning_rate: 0.0010\n",
            "Epoch 8/10\n",
            "\u001b[1m626/628\u001b[0m \u001b[32m━━━━━━━━━━━━━━━━━━━\u001b[0m\u001b[37m━\u001b[0m \u001b[1m0s\u001b[0m 21ms/step - accuracy: 0.2462 - loss: 1.6025\n",
            "Epoch 8: val_loss did not improve from 1.60467\n",
            "\u001b[1m628/628\u001b[0m \u001b[32m━━━━━━━━━━━━━━━━━━━━\u001b[0m\u001b[37m\u001b[0m \u001b[1m22s\u001b[0m 35ms/step - accuracy: 0.2462 - loss: 1.6025 - val_accuracy: 0.2253 - val_loss: 1.6102 - learning_rate: 0.0010\n",
            "Epoch 8: early stopping\n"
          ]
        },
        {
          "output_type": "execute_result",
          "data": {
            "text/plain": [
              "<keras.src.callbacks.history.History at 0x7af936e5b290>"
            ]
          },
          "metadata": {},
          "execution_count": 18
        }
      ]
    },
    {
      "cell_type": "code",
      "source": [
        "# lets try efficientnetb0\n",
        "\n",
        "inputs = Input(shape=(48,48,1))\n",
        "x = augment(inputs)\n",
        "x=x=tf.keras.layers.Lambda(repeat_channels)(x)\n",
        "base = EfficientNetB0(weights='imagenet', include_top=False, input_tensor=x)\n",
        "for layer in base.layers:\n",
        "    layer.trainable = False\n",
        "x = base.output\n",
        "x = tf.keras.layers.GlobalAveragePooling2D()(x)\n",
        "x = tf.keras.layers.Dropout(0.4)(x)\n",
        "x = Dense(128, activation='relu')(x)\n",
        "outputs = Dense(len(class_names), activation='softmax')(x)\n",
        "\n",
        "eff_model = tf.keras.models.Model(inputs, outputs)\n",
        "\n",
        "eff_model.compile(optimizer=tf.keras.optimizers.Adam(0.001),\n",
        "              loss='sparse_categorical_crossentropy',\n",
        "              metrics=['accuracy'])\n",
        "eff_model.fit(train,validation_data=val,epochs=10,class_weight=class_weights,callbacks=callbacks)"
      ],
      "metadata": {
        "id": "edncHpDID6bi",
        "colab": {
          "base_uri": "https://localhost:8080/"
        },
        "outputId": "f89c97db-ea0e-4b9c-c6c0-bcc26483a56c"
      },
      "execution_count": null,
      "outputs": [
        {
          "output_type": "stream",
          "name": "stdout",
          "text": [
            "Downloading data from https://storage.googleapis.com/keras-applications/efficientnetb0_notop.h5\n",
            "\u001b[1m16705208/16705208\u001b[0m \u001b[32m━━━━━━━━━━━━━━━━━━━━\u001b[0m\u001b[37m\u001b[0m \u001b[1m0s\u001b[0m 0us/step\n",
            "Epoch 1/10\n",
            "\u001b[1m628/628\u001b[0m \u001b[32m━━━━━━━━━━━━━━━━━━━━\u001b[0m\u001b[37m\u001b[0m \u001b[1m0s\u001b[0m 18ms/step - accuracy: 0.1886 - loss: 1.6312\n",
            "Epoch 1: val_loss did not improve from 1.60467\n",
            "\u001b[1m628/628\u001b[0m \u001b[32m━━━━━━━━━━━━━━━━━━━━\u001b[0m\u001b[37m\u001b[0m \u001b[1m30s\u001b[0m 31ms/step - accuracy: 0.1886 - loss: 1.6312 - val_accuracy: 0.1614 - val_loss: 1.6104 - learning_rate: 0.0010\n",
            "Epoch 2/10\n",
            "\u001b[1m626/628\u001b[0m \u001b[32m━━━━━━━━━━━━━━━━━━━\u001b[0m\u001b[37m━\u001b[0m \u001b[1m0s\u001b[0m 18ms/step - accuracy: 0.1769 - loss: 1.6104\n",
            "Epoch 2: val_loss did not improve from 1.60467\n",
            "\u001b[1m628/628\u001b[0m \u001b[32m━━━━━━━━━━━━━━━━━━━━\u001b[0m\u001b[37m\u001b[0m \u001b[1m17s\u001b[0m 28ms/step - accuracy: 0.1770 - loss: 1.6104 - val_accuracy: 0.1614 - val_loss: 1.6100 - learning_rate: 0.0010\n",
            "Epoch 3/10\n",
            "\u001b[1m626/628\u001b[0m \u001b[32m━━━━━━━━━━━━━━━━━━━\u001b[0m\u001b[37m━\u001b[0m \u001b[1m0s\u001b[0m 17ms/step - accuracy: 0.1816 - loss: 1.6099\n",
            "Epoch 3: val_loss did not improve from 1.60467\n",
            "\u001b[1m628/628\u001b[0m \u001b[32m━━━━━━━━━━━━━━━━━━━━\u001b[0m\u001b[37m\u001b[0m \u001b[1m16s\u001b[0m 25ms/step - accuracy: 0.1817 - loss: 1.6099 - val_accuracy: 0.1614 - val_loss: 1.6100 - learning_rate: 0.0010\n",
            "Epoch 4/10\n",
            "\u001b[1m626/628\u001b[0m \u001b[32m━━━━━━━━━━━━━━━━━━━\u001b[0m\u001b[37m━\u001b[0m \u001b[1m0s\u001b[0m 18ms/step - accuracy: 0.1841 - loss: 1.6099\n",
            "Epoch 4: val_loss did not improve from 1.60467\n",
            "\u001b[1m628/628\u001b[0m \u001b[32m━━━━━━━━━━━━━━━━━━━━\u001b[0m\u001b[37m\u001b[0m \u001b[1m16s\u001b[0m 25ms/step - accuracy: 0.1842 - loss: 1.6099 - val_accuracy: 0.2000 - val_loss: 1.6101 - learning_rate: 0.0010\n",
            "Epoch 5/10\n",
            "\u001b[1m626/628\u001b[0m \u001b[32m━━━━━━━━━━━━━━━━━━━\u001b[0m\u001b[37m━\u001b[0m \u001b[1m0s\u001b[0m 18ms/step - accuracy: 0.1855 - loss: 1.6105\n",
            "Epoch 5: val_loss did not improve from 1.60467\n",
            "\u001b[1m628/628\u001b[0m \u001b[32m━━━━━━━━━━━━━━━━━━━━\u001b[0m\u001b[37m\u001b[0m \u001b[1m16s\u001b[0m 26ms/step - accuracy: 0.1856 - loss: 1.6105 - val_accuracy: 0.1614 - val_loss: 1.6098 - learning_rate: 0.0010\n",
            "Epoch 6/10\n",
            "\u001b[1m628/628\u001b[0m \u001b[32m━━━━━━━━━━━━━━━━━━━━\u001b[0m\u001b[37m\u001b[0m \u001b[1m0s\u001b[0m 19ms/step - accuracy: 0.1835 - loss: 1.6101\n",
            "Epoch 6: val_loss did not improve from 1.60467\n",
            "\u001b[1m628/628\u001b[0m \u001b[32m━━━━━━━━━━━━━━━━━━━━\u001b[0m\u001b[37m\u001b[0m \u001b[1m18s\u001b[0m 29ms/step - accuracy: 0.1835 - loss: 1.6101 - val_accuracy: 0.2000 - val_loss: 1.6101 - learning_rate: 0.0010\n",
            "Epoch 7/10\n",
            "\u001b[1m628/628\u001b[0m \u001b[32m━━━━━━━━━━━━━━━━━━━━\u001b[0m\u001b[37m\u001b[0m \u001b[1m0s\u001b[0m 18ms/step - accuracy: 0.1809 - loss: 1.6091\n",
            "Epoch 7: val_loss did not improve from 1.60467\n",
            "\u001b[1m628/628\u001b[0m \u001b[32m━━━━━━━━━━━━━━━━━━━━\u001b[0m\u001b[37m\u001b[0m \u001b[1m18s\u001b[0m 25ms/step - accuracy: 0.1809 - loss: 1.6091 - val_accuracy: 0.1614 - val_loss: 1.6098 - learning_rate: 0.0010\n",
            "Epoch 8/10\n",
            "\u001b[1m627/628\u001b[0m \u001b[32m━━━━━━━━━━━━━━━━━━━\u001b[0m\u001b[37m━\u001b[0m \u001b[1m0s\u001b[0m 18ms/step - accuracy: 0.1875 - loss: 1.6110\n",
            "Epoch 8: val_loss did not improve from 1.60467\n",
            "\u001b[1m628/628\u001b[0m \u001b[32m━━━━━━━━━━━━━━━━━━━━\u001b[0m\u001b[37m\u001b[0m \u001b[1m21s\u001b[0m 27ms/step - accuracy: 0.1876 - loss: 1.6110 - val_accuracy: 0.2000 - val_loss: 1.6098 - learning_rate: 0.0010\n",
            "Epoch 9/10\n",
            "\u001b[1m627/628\u001b[0m \u001b[32m━━━━━━━━━━━━━━━━━━━\u001b[0m\u001b[37m━\u001b[0m \u001b[1m0s\u001b[0m 16ms/step - accuracy: 0.1871 - loss: 1.6100\n",
            "Epoch 9: val_loss did not improve from 1.60467\n",
            "\u001b[1m628/628\u001b[0m \u001b[32m━━━━━━━━━━━━━━━━━━━━\u001b[0m\u001b[37m\u001b[0m \u001b[1m16s\u001b[0m 25ms/step - accuracy: 0.1872 - loss: 1.6100 - val_accuracy: 0.1614 - val_loss: 1.6101 - learning_rate: 0.0010\n",
            "Epoch 10/10\n",
            "\u001b[1m626/628\u001b[0m \u001b[32m━━━━━━━━━━━━━━━━━━━\u001b[0m\u001b[37m━\u001b[0m \u001b[1m0s\u001b[0m 18ms/step - accuracy: 0.1633 - loss: 1.6106\n",
            "Epoch 10: val_loss did not improve from 1.60467\n",
            "\u001b[1m628/628\u001b[0m \u001b[32m━━━━━━━━━━━━━━━━━━━━\u001b[0m\u001b[37m\u001b[0m \u001b[1m16s\u001b[0m 25ms/step - accuracy: 0.1633 - loss: 1.6105 - val_accuracy: 0.1614 - val_loss: 1.6100 - learning_rate: 1.0000e-04\n"
          ]
        },
        {
          "output_type": "execute_result",
          "data": {
            "text/plain": [
              "<keras.src.callbacks.history.History at 0x7af8cff6ec30>"
            ]
          },
          "metadata": {},
          "execution_count": 19
        }
      ]
    },
    {
      "cell_type": "code",
      "source": [
        "def create_mini_xception(input_shape=(48,48,1),num_classes=5):\n",
        "  model=tf.keras.Sequential()\n",
        "  model.add(Input(shape=input_shape))\n",
        "\n",
        "  model.add(Conv2D(8,(3,3),padding='same'))\n",
        "  model.add(BatchNormalization())\n",
        "  model.add(Activation('relu'))\n",
        "\n",
        "  model.add(SeparableConv2D(16,(3,3),padding='same'))\n",
        "  model.add(BatchNormalization())\n",
        "  model.add(Activation('relu'))\n",
        "  model.add(MaxPooling2D(pool_size=(2, 2)))\n",
        "  model.add(Dropout(0.25))\n",
        "\n",
        "  model.add(SeparableConv2D(32,(3,3),padding='same'))\n",
        "  model.add(BatchNormalization())\n",
        "  model.add(Activation('relu'))\n",
        "  model.add(SeparableConv2D(32, (3,3), padding='same'))\n",
        "  model.add(BatchNormalization())\n",
        "  model.add(Activation('relu'))\n",
        "  model.add(MaxPooling2D(pool_size=(2, 2)))\n",
        "  model.add(Dropout(0.25))\n",
        "\n",
        "  model.add(SeparableConv2D(64,(3,3),padding='same'))\n",
        "  model.add(BatchNormalization())\n",
        "  model.add(Activation('relu'))\n",
        "  model.add(SeparableConv2D(64, (3,3), padding='same'))\n",
        "  model.add(BatchNormalization())\n",
        "  model.add(Activation('relu'))\n",
        "  model.add(MaxPooling2D(pool_size=(2, 2)))\n",
        "  model.add(Dropout(0.25))\n",
        "\n",
        "  model.add(Flatten())\n",
        "  model.add(Dense(128))\n",
        "  model.add(BatchNormalization())\n",
        "  model.add(Activation('relu'))\n",
        "  model.add(Dropout(0.5))\n",
        "  model.add(Dense(num_classes, activation='softmax'))\n",
        "\n",
        "  return model"
      ],
      "metadata": {
        "id": "c_AlzKe47USQ"
      },
      "execution_count": null,
      "outputs": []
    },
    {
      "cell_type": "code",
      "source": [
        "min_model=create_mini_xception()\n",
        "min_model.compile(optimizer=tf.keras.optimizers.Adam(learning_rate=0.001, beta_1=0.9, beta_2=0.999, epsilon=1e-07),\n",
        "              loss='sparse_categorical_crossentropy',\n",
        "              metrics=['accuracy'])\n",
        "min_model.fit(train,validation_data=val,epochs=60,class_weight=class_weights,callbacks=callbacks)"
      ],
      "metadata": {
        "id": "oTJwYqaw7U97",
        "colab": {
          "base_uri": "https://localhost:8080/"
        },
        "outputId": "4e0f3410-1c4b-4441-ca47-1d056aafc880"
      },
      "execution_count": null,
      "outputs": [
        {
          "output_type": "stream",
          "name": "stdout",
          "text": [
            "Epoch 1/60\n",
            "\u001b[1m628/628\u001b[0m \u001b[32m━━━━━━━━━━━━━━━━━━━━\u001b[0m\u001b[37m\u001b[0m \u001b[1m0s\u001b[0m 27ms/step - accuracy: 0.2401 - loss: 1.8781\n",
            "Epoch 1: val_loss improved from 1.60467 to 1.54510, saving model to /content/drive/MyDrive/bestface_model.keras\n",
            "\u001b[1m628/628\u001b[0m \u001b[32m━━━━━━━━━━━━━━━━━━━━\u001b[0m\u001b[37m\u001b[0m \u001b[1m47s\u001b[0m 45ms/step - accuracy: 0.2402 - loss: 1.8778 - val_accuracy: 0.3022 - val_loss: 1.5451 - learning_rate: 0.0010\n",
            "Epoch 2/60\n",
            "\u001b[1m624/628\u001b[0m \u001b[32m━━━━━━━━━━━━━━━━━━━\u001b[0m\u001b[37m━\u001b[0m \u001b[1m0s\u001b[0m 7ms/step - accuracy: 0.3338 - loss: 1.5482\n",
            "Epoch 2: val_loss improved from 1.54510 to 1.41448, saving model to /content/drive/MyDrive/bestface_model.keras\n",
            "\u001b[1m628/628\u001b[0m \u001b[32m━━━━━━━━━━━━━━━━━━━━\u001b[0m\u001b[37m\u001b[0m \u001b[1m7s\u001b[0m 10ms/step - accuracy: 0.3339 - loss: 1.5480 - val_accuracy: 0.3930 - val_loss: 1.4145 - learning_rate: 0.0010\n",
            "Epoch 3/60\n",
            "\u001b[1m621/628\u001b[0m \u001b[32m━━━━━━━━━━━━━━━━━━━\u001b[0m\u001b[37m━\u001b[0m \u001b[1m0s\u001b[0m 9ms/step - accuracy: 0.4002 - loss: 1.4449\n",
            "Epoch 3: val_loss improved from 1.41448 to 1.35890, saving model to /content/drive/MyDrive/bestface_model.keras\n",
            "\u001b[1m628/628\u001b[0m \u001b[32m━━━━━━━━━━━━━━━━━━━━\u001b[0m\u001b[37m\u001b[0m \u001b[1m7s\u001b[0m 11ms/step - accuracy: 0.4004 - loss: 1.4447 - val_accuracy: 0.4279 - val_loss: 1.3589 - learning_rate: 0.0010\n",
            "Epoch 4/60\n",
            "\u001b[1m626/628\u001b[0m \u001b[32m━━━━━━━━━━━━━━━━━━━\u001b[0m\u001b[37m━\u001b[0m \u001b[1m0s\u001b[0m 7ms/step - accuracy: 0.4304 - loss: 1.3934\n",
            "Epoch 4: val_loss improved from 1.35890 to 1.29293, saving model to /content/drive/MyDrive/bestface_model.keras\n",
            "\u001b[1m628/628\u001b[0m \u001b[32m━━━━━━━━━━━━━━━━━━━━\u001b[0m\u001b[37m\u001b[0m \u001b[1m6s\u001b[0m 9ms/step - accuracy: 0.4305 - loss: 1.3933 - val_accuracy: 0.4647 - val_loss: 1.2929 - learning_rate: 0.0010\n",
            "Epoch 5/60\n",
            "\u001b[1m621/628\u001b[0m \u001b[32m━━━━━━━━━━━━━━━━━━━\u001b[0m\u001b[37m━\u001b[0m \u001b[1m0s\u001b[0m 7ms/step - accuracy: 0.4484 - loss: 1.3578\n",
            "Epoch 5: val_loss did not improve from 1.29293\n",
            "\u001b[1m628/628\u001b[0m \u001b[32m━━━━━━━━━━━━━━━━━━━━\u001b[0m\u001b[37m\u001b[0m \u001b[1m10s\u001b[0m 9ms/step - accuracy: 0.4485 - loss: 1.3576 - val_accuracy: 0.4584 - val_loss: 1.2943 - learning_rate: 0.0010\n",
            "Epoch 6/60\n",
            "\u001b[1m623/628\u001b[0m \u001b[32m━━━━━━━━━━━━━━━━━━━\u001b[0m\u001b[37m━\u001b[0m \u001b[1m0s\u001b[0m 9ms/step - accuracy: 0.4675 - loss: 1.3123\n",
            "Epoch 6: val_loss improved from 1.29293 to 1.20706, saving model to /content/drive/MyDrive/bestface_model.keras\n",
            "\u001b[1m628/628\u001b[0m \u001b[32m━━━━━━━━━━━━━━━━━━━━\u001b[0m\u001b[37m\u001b[0m \u001b[1m7s\u001b[0m 12ms/step - accuracy: 0.4676 - loss: 1.3122 - val_accuracy: 0.5028 - val_loss: 1.2071 - learning_rate: 0.0010\n",
            "Epoch 7/60\n",
            "\u001b[1m627/628\u001b[0m \u001b[32m━━━━━━━━━━━━━━━━━━━\u001b[0m\u001b[37m━\u001b[0m \u001b[1m0s\u001b[0m 7ms/step - accuracy: 0.4842 - loss: 1.2937\n",
            "Epoch 7: val_loss did not improve from 1.20706\n",
            "\u001b[1m628/628\u001b[0m \u001b[32m━━━━━━━━━━━━━━━━━━━━\u001b[0m\u001b[37m\u001b[0m \u001b[1m8s\u001b[0m 9ms/step - accuracy: 0.4842 - loss: 1.2937 - val_accuracy: 0.4598 - val_loss: 1.2987 - learning_rate: 0.0010\n",
            "Epoch 8/60\n",
            "\u001b[1m622/628\u001b[0m \u001b[32m━━━━━━━━━━━━━━━━━━━\u001b[0m\u001b[37m━\u001b[0m \u001b[1m0s\u001b[0m 7ms/step - accuracy: 0.4937 - loss: 1.2656\n",
            "Epoch 8: val_loss improved from 1.20706 to 1.18469, saving model to /content/drive/MyDrive/bestface_model.keras\n",
            "\u001b[1m628/628\u001b[0m \u001b[32m━━━━━━━━━━━━━━━━━━━━\u001b[0m\u001b[37m\u001b[0m \u001b[1m10s\u001b[0m 9ms/step - accuracy: 0.4937 - loss: 1.2656 - val_accuracy: 0.5147 - val_loss: 1.1847 - learning_rate: 0.0010\n",
            "Epoch 9/60\n",
            "\u001b[1m622/628\u001b[0m \u001b[32m━━━━━━━━━━━━━━━━━━━\u001b[0m\u001b[37m━\u001b[0m \u001b[1m0s\u001b[0m 9ms/step - accuracy: 0.5066 - loss: 1.2513\n",
            "Epoch 9: val_loss did not improve from 1.18469\n",
            "\u001b[1m628/628\u001b[0m \u001b[32m━━━━━━━━━━━━━━━━━━━━\u001b[0m\u001b[37m\u001b[0m \u001b[1m7s\u001b[0m 12ms/step - accuracy: 0.5066 - loss: 1.2512 - val_accuracy: 0.4926 - val_loss: 1.2271 - learning_rate: 0.0010\n",
            "Epoch 10/60\n",
            "\u001b[1m623/628\u001b[0m \u001b[32m━━━━━━━━━━━━━━━━━━━\u001b[0m\u001b[37m━\u001b[0m \u001b[1m0s\u001b[0m 8ms/step - accuracy: 0.5215 - loss: 1.2314\n",
            "Epoch 10: val_loss did not improve from 1.18469\n",
            "\u001b[1m628/628\u001b[0m \u001b[32m━━━━━━━━━━━━━━━━━━━━\u001b[0m\u001b[37m\u001b[0m \u001b[1m9s\u001b[0m 10ms/step - accuracy: 0.5215 - loss: 1.2314 - val_accuracy: 0.5118 - val_loss: 1.1912 - learning_rate: 0.0010\n",
            "Epoch 11/60\n",
            "\u001b[1m626/628\u001b[0m \u001b[32m━━━━━━━━━━━━━━━━━━━\u001b[0m\u001b[37m━\u001b[0m \u001b[1m0s\u001b[0m 8ms/step - accuracy: 0.5316 - loss: 1.2082\n",
            "Epoch 11: val_loss improved from 1.18469 to 1.16355, saving model to /content/drive/MyDrive/bestface_model.keras\n",
            "\u001b[1m628/628\u001b[0m \u001b[32m━━━━━━━━━━━━━━━━━━━━\u001b[0m\u001b[37m\u001b[0m \u001b[1m6s\u001b[0m 10ms/step - accuracy: 0.5316 - loss: 1.2081 - val_accuracy: 0.5235 - val_loss: 1.1635 - learning_rate: 0.0010\n",
            "Epoch 12/60\n",
            "\u001b[1m622/628\u001b[0m \u001b[32m━━━━━━━━━━━━━━━━━━━\u001b[0m\u001b[37m━\u001b[0m \u001b[1m0s\u001b[0m 7ms/step - accuracy: 0.5390 - loss: 1.1923\n",
            "Epoch 12: val_loss improved from 1.16355 to 1.12480, saving model to /content/drive/MyDrive/bestface_model.keras\n",
            "\u001b[1m628/628\u001b[0m \u001b[32m━━━━━━━━━━━━━━━━━━━━\u001b[0m\u001b[37m\u001b[0m \u001b[1m6s\u001b[0m 10ms/step - accuracy: 0.5390 - loss: 1.1923 - val_accuracy: 0.5478 - val_loss: 1.1248 - learning_rate: 0.0010\n",
            "Epoch 13/60\n",
            "\u001b[1m624/628\u001b[0m \u001b[32m━━━━━━━━━━━━━━━━━━━\u001b[0m\u001b[37m━\u001b[0m \u001b[1m0s\u001b[0m 7ms/step - accuracy: 0.5474 - loss: 1.1868\n",
            "Epoch 13: val_loss improved from 1.12480 to 1.12371, saving model to /content/drive/MyDrive/bestface_model.keras\n",
            "\u001b[1m628/628\u001b[0m \u001b[32m━━━━━━━━━━━━━━━━━━━━\u001b[0m\u001b[37m\u001b[0m \u001b[1m10s\u001b[0m 9ms/step - accuracy: 0.5474 - loss: 1.1868 - val_accuracy: 0.5518 - val_loss: 1.1237 - learning_rate: 0.0010\n",
            "Epoch 14/60\n",
            "\u001b[1m625/628\u001b[0m \u001b[32m━━━━━━━━━━━━━━━━━━━\u001b[0m\u001b[37m━\u001b[0m \u001b[1m0s\u001b[0m 7ms/step - accuracy: 0.5545 - loss: 1.1695\n",
            "Epoch 14: val_loss improved from 1.12371 to 1.11382, saving model to /content/drive/MyDrive/bestface_model.keras\n",
            "\u001b[1m628/628\u001b[0m \u001b[32m━━━━━━━━━━━━━━━━━━━━\u001b[0m\u001b[37m\u001b[0m \u001b[1m11s\u001b[0m 10ms/step - accuracy: 0.5545 - loss: 1.1695 - val_accuracy: 0.5490 - val_loss: 1.1138 - learning_rate: 0.0010\n",
            "Epoch 15/60\n",
            "\u001b[1m623/628\u001b[0m \u001b[32m━━━━━━━━━━━━━━━━━━━\u001b[0m\u001b[37m━\u001b[0m \u001b[1m0s\u001b[0m 9ms/step - accuracy: 0.5545 - loss: 1.1554\n",
            "Epoch 15: val_loss improved from 1.11382 to 1.11016, saving model to /content/drive/MyDrive/bestface_model.keras\n",
            "\u001b[1m628/628\u001b[0m \u001b[32m━━━━━━━━━━━━━━━━━━━━\u001b[0m\u001b[37m\u001b[0m \u001b[1m7s\u001b[0m 12ms/step - accuracy: 0.5545 - loss: 1.1554 - val_accuracy: 0.5562 - val_loss: 1.1102 - learning_rate: 0.0010\n",
            "Epoch 16/60\n",
            "\u001b[1m620/628\u001b[0m \u001b[32m━━━━━━━━━━━━━━━━━━━\u001b[0m\u001b[37m━\u001b[0m \u001b[1m0s\u001b[0m 8ms/step - accuracy: 0.5597 - loss: 1.1447\n",
            "Epoch 16: val_loss improved from 1.11016 to 1.10240, saving model to /content/drive/MyDrive/bestface_model.keras\n",
            "\u001b[1m628/628\u001b[0m \u001b[32m━━━━━━━━━━━━━━━━━━━━\u001b[0m\u001b[37m\u001b[0m \u001b[1m6s\u001b[0m 9ms/step - accuracy: 0.5597 - loss: 1.1447 - val_accuracy: 0.5604 - val_loss: 1.1024 - learning_rate: 0.0010\n",
            "Epoch 17/60\n",
            "\u001b[1m628/628\u001b[0m \u001b[32m━━━━━━━━━━━━━━━━━━━━\u001b[0m\u001b[37m\u001b[0m \u001b[1m0s\u001b[0m 9ms/step - accuracy: 0.5671 - loss: 1.1307\n",
            "Epoch 17: val_loss did not improve from 1.10240\n",
            "\u001b[1m628/628\u001b[0m \u001b[32m━━━━━━━━━━━━━━━━━━━━\u001b[0m\u001b[37m\u001b[0m \u001b[1m7s\u001b[0m 11ms/step - accuracy: 0.5671 - loss: 1.1307 - val_accuracy: 0.5442 - val_loss: 1.1353 - learning_rate: 0.0010\n",
            "Epoch 18/60\n",
            "\u001b[1m623/628\u001b[0m \u001b[32m━━━━━━━━━━━━━━━━━━━\u001b[0m\u001b[37m━\u001b[0m \u001b[1m0s\u001b[0m 7ms/step - accuracy: 0.5720 - loss: 1.1232\n",
            "Epoch 18: val_loss did not improve from 1.10240\n",
            "\u001b[1m628/628\u001b[0m \u001b[32m━━━━━━━━━━━━━━━━━━━━\u001b[0m\u001b[37m\u001b[0m \u001b[1m6s\u001b[0m 9ms/step - accuracy: 0.5720 - loss: 1.1231 - val_accuracy: 0.5488 - val_loss: 1.1284 - learning_rate: 0.0010\n",
            "Epoch 19/60\n",
            "\u001b[1m621/628\u001b[0m \u001b[32m━━━━━━━━━━━━━━━━━━━\u001b[0m\u001b[37m━\u001b[0m \u001b[1m0s\u001b[0m 8ms/step - accuracy: 0.5803 - loss: 1.1045\n",
            "Epoch 19: val_loss improved from 1.10240 to 1.08017, saving model to /content/drive/MyDrive/bestface_model.keras\n",
            "\u001b[1m628/628\u001b[0m \u001b[32m━━━━━━━━━━━━━━━━━━━━\u001b[0m\u001b[37m\u001b[0m \u001b[1m11s\u001b[0m 10ms/step - accuracy: 0.5802 - loss: 1.1046 - val_accuracy: 0.5733 - val_loss: 1.0802 - learning_rate: 0.0010\n",
            "Epoch 20/60\n",
            "\u001b[1m621/628\u001b[0m \u001b[32m━━━━━━━━━━━━━━━━━━━\u001b[0m\u001b[37m━\u001b[0m \u001b[1m0s\u001b[0m 8ms/step - accuracy: 0.5798 - loss: 1.0941\n",
            "Epoch 20: val_loss improved from 1.08017 to 1.07499, saving model to /content/drive/MyDrive/bestface_model.keras\n",
            "\u001b[1m628/628\u001b[0m \u001b[32m━━━━━━━━━━━━━━━━━━━━\u001b[0m\u001b[37m\u001b[0m \u001b[1m7s\u001b[0m 11ms/step - accuracy: 0.5798 - loss: 1.0941 - val_accuracy: 0.5707 - val_loss: 1.0750 - learning_rate: 0.0010\n",
            "Epoch 21/60\n",
            "\u001b[1m626/628\u001b[0m \u001b[32m━━━━━━━━━━━━━━━━━━━\u001b[0m\u001b[37m━\u001b[0m \u001b[1m0s\u001b[0m 9ms/step - accuracy: 0.5936 - loss: 1.0847\n",
            "Epoch 21: val_loss did not improve from 1.07499\n",
            "\u001b[1m628/628\u001b[0m \u001b[32m━━━━━━━━━━━━━━━━━━━━\u001b[0m\u001b[37m\u001b[0m \u001b[1m7s\u001b[0m 12ms/step - accuracy: 0.5936 - loss: 1.0847 - val_accuracy: 0.5343 - val_loss: 1.1486 - learning_rate: 0.0010\n",
            "Epoch 22/60\n",
            "\u001b[1m622/628\u001b[0m \u001b[32m━━━━━━━━━━━━━━━━━━━\u001b[0m\u001b[37m━\u001b[0m \u001b[1m0s\u001b[0m 9ms/step - accuracy: 0.5880 - loss: 1.0834\n",
            "Epoch 22: val_loss did not improve from 1.07499\n",
            "\u001b[1m628/628\u001b[0m \u001b[32m━━━━━━━━━━━━━━━━━━━━\u001b[0m\u001b[37m\u001b[0m \u001b[1m10s\u001b[0m 11ms/step - accuracy: 0.5880 - loss: 1.0834 - val_accuracy: 0.5594 - val_loss: 1.0996 - learning_rate: 0.0010\n",
            "Epoch 23/60\n",
            "\u001b[1m623/628\u001b[0m \u001b[32m━━━━━━━━━━━━━━━━━━━\u001b[0m\u001b[37m━\u001b[0m \u001b[1m0s\u001b[0m 7ms/step - accuracy: 0.5997 - loss: 1.0613\n",
            "Epoch 23: val_loss did not improve from 1.07499\n",
            "\u001b[1m628/628\u001b[0m \u001b[32m━━━━━━━━━━━━━━━━━━━━\u001b[0m\u001b[37m\u001b[0m \u001b[1m6s\u001b[0m 9ms/step - accuracy: 0.5996 - loss: 1.0613 - val_accuracy: 0.5669 - val_loss: 1.0900 - learning_rate: 0.0010\n",
            "Epoch 24/60\n",
            "\u001b[1m622/628\u001b[0m \u001b[32m━━━━━━━━━━━━━━━━━━━\u001b[0m\u001b[37m━\u001b[0m \u001b[1m0s\u001b[0m 9ms/step - accuracy: 0.6005 - loss: 1.0675\n",
            "Epoch 24: val_loss improved from 1.07499 to 1.06317, saving model to /content/drive/MyDrive/bestface_model.keras\n",
            "\u001b[1m628/628\u001b[0m \u001b[32m━━━━━━━━━━━━━━━━━━━━\u001b[0m\u001b[37m\u001b[0m \u001b[1m7s\u001b[0m 11ms/step - accuracy: 0.6005 - loss: 1.0674 - val_accuracy: 0.5813 - val_loss: 1.0632 - learning_rate: 0.0010\n",
            "Epoch 25/60\n",
            "\u001b[1m623/628\u001b[0m \u001b[32m━━━━━━━━━━━━━━━━━━━\u001b[0m\u001b[37m━\u001b[0m \u001b[1m0s\u001b[0m 7ms/step - accuracy: 0.6015 - loss: 1.0642\n",
            "Epoch 25: val_loss did not improve from 1.06317\n",
            "\u001b[1m628/628\u001b[0m \u001b[32m━━━━━━━━━━━━━━━━━━━━\u001b[0m\u001b[37m\u001b[0m \u001b[1m6s\u001b[0m 9ms/step - accuracy: 0.6014 - loss: 1.0641 - val_accuracy: 0.5805 - val_loss: 1.0737 - learning_rate: 0.0010\n",
            "Epoch 26/60\n",
            "\u001b[1m628/628\u001b[0m \u001b[32m━━━━━━━━━━━━━━━━━━━━\u001b[0m\u001b[37m\u001b[0m \u001b[1m0s\u001b[0m 9ms/step - accuracy: 0.6028 - loss: 1.0511\n",
            "Epoch 26: val_loss improved from 1.06317 to 1.05320, saving model to /content/drive/MyDrive/bestface_model.keras\n",
            "\u001b[1m628/628\u001b[0m \u001b[32m━━━━━━━━━━━━━━━━━━━━\u001b[0m\u001b[37m\u001b[0m \u001b[1m8s\u001b[0m 12ms/step - accuracy: 0.6028 - loss: 1.0511 - val_accuracy: 0.5813 - val_loss: 1.0532 - learning_rate: 0.0010\n",
            "Epoch 27/60\n",
            "\u001b[1m627/628\u001b[0m \u001b[32m━━━━━━━━━━━━━━━━━━━\u001b[0m\u001b[37m━\u001b[0m \u001b[1m0s\u001b[0m 7ms/step - accuracy: 0.6074 - loss: 1.0468\n",
            "Epoch 27: val_loss did not improve from 1.05320\n",
            "\u001b[1m628/628\u001b[0m \u001b[32m━━━━━━━━━━━━━━━━━━━━\u001b[0m\u001b[37m\u001b[0m \u001b[1m6s\u001b[0m 10ms/step - accuracy: 0.6074 - loss: 1.0468 - val_accuracy: 0.5795 - val_loss: 1.0628 - learning_rate: 0.0010\n",
            "Epoch 28/60\n",
            "\u001b[1m626/628\u001b[0m \u001b[32m━━━━━━━━━━━━━━━━━━━\u001b[0m\u001b[37m━\u001b[0m \u001b[1m0s\u001b[0m 9ms/step - accuracy: 0.6063 - loss: 1.0423 \n",
            "Epoch 28: val_loss did not improve from 1.05320\n",
            "\u001b[1m628/628\u001b[0m \u001b[32m━━━━━━━━━━━━━━━━━━━━\u001b[0m\u001b[37m\u001b[0m \u001b[1m7s\u001b[0m 11ms/step - accuracy: 0.6063 - loss: 1.0423 - val_accuracy: 0.5598 - val_loss: 1.1116 - learning_rate: 0.0010\n",
            "Epoch 29/60\n",
            "\u001b[1m627/628\u001b[0m \u001b[32m━━━━━━━━━━━━━━━━━━━\u001b[0m\u001b[37m━\u001b[0m \u001b[1m0s\u001b[0m 7ms/step - accuracy: 0.6098 - loss: 1.0251\n",
            "Epoch 29: val_loss did not improve from 1.05320\n",
            "\u001b[1m628/628\u001b[0m \u001b[32m━━━━━━━━━━━━━━━━━━━━\u001b[0m\u001b[37m\u001b[0m \u001b[1m6s\u001b[0m 9ms/step - accuracy: 0.6098 - loss: 1.0251 - val_accuracy: 0.5821 - val_loss: 1.0584 - learning_rate: 0.0010\n",
            "Epoch 30/60\n",
            "\u001b[1m625/628\u001b[0m \u001b[32m━━━━━━━━━━━━━━━━━━━\u001b[0m\u001b[37m━\u001b[0m \u001b[1m0s\u001b[0m 9ms/step - accuracy: 0.6108 - loss: 1.0274\n",
            "Epoch 30: val_loss did not improve from 1.05320\n",
            "\u001b[1m628/628\u001b[0m \u001b[32m━━━━━━━━━━━━━━━━━━━━\u001b[0m\u001b[37m\u001b[0m \u001b[1m7s\u001b[0m 11ms/step - accuracy: 0.6108 - loss: 1.0274 - val_accuracy: 0.5875 - val_loss: 1.0558 - learning_rate: 0.0010\n",
            "Epoch 30: early stopping\n"
          ]
        },
        {
          "output_type": "execute_result",
          "data": {
            "text/plain": [
              "<keras.src.callbacks.history.History at 0x7af8cff29b80>"
            ]
          },
          "metadata": {},
          "execution_count": 21
        }
      ]
    },
    {
      "cell_type": "code",
      "source": [
        "min_model.evaluate(test)"
      ],
      "metadata": {
        "colab": {
          "base_uri": "https://localhost:8080/"
        },
        "id": "3g9ZCxHI_M9d",
        "outputId": "6afff73b-78a8-4dc6-b1cf-c8687bdbfe74"
      },
      "execution_count": null,
      "outputs": [
        {
          "output_type": "stream",
          "name": "stdout",
          "text": [
            "\u001b[1m195/195\u001b[0m \u001b[32m━━━━━━━━━━━━━━━━━━━━\u001b[0m\u001b[37m\u001b[0m \u001b[1m1s\u001b[0m 4ms/step - accuracy: 0.5810 - loss: 1.0719\n"
          ]
        },
        {
          "output_type": "execute_result",
          "data": {
            "text/plain": [
              "[1.0480420589447021, 0.5881975889205933]"
            ]
          },
          "metadata": {},
          "execution_count": 22
        }
      ]
    },
    {
      "cell_type": "code",
      "source": [
        "model.save('/content/drive/MyDrive/emotion_model.keras')"
      ],
      "metadata": {
        "id": "9UtOgF9q7VOf"
      },
      "execution_count": null,
      "outputs": []
    },
    {
      "cell_type": "code",
      "source": [
        "import tensorflow as tf\n",
        "import sys\n",
        "print(f\"TensorFlow: {tf.__version__}\")\n",
        "print(f\"Python: {sys.version}\")"
      ],
      "metadata": {
        "id": "HPyKfNrq7WVt",
        "colab": {
          "base_uri": "https://localhost:8080/"
        },
        "outputId": "60d98cf9-52ef-49ea-d408-db786b304d7a"
      },
      "execution_count": 3,
      "outputs": [
        {
          "output_type": "stream",
          "name": "stdout",
          "text": [
            "TensorFlow: 2.19.0\n",
            "Python: 3.12.11 (main, Jun  4 2025, 08:56:18) [GCC 11.4.0]\n"
          ]
        }
      ]
    },
    {
      "cell_type": "code",
      "source": [],
      "metadata": {
        "colab": {
          "base_uri": "https://localhost:8080/"
        },
        "id": "Hf36H2b-OVqk",
        "outputId": "229f186d-2c03-4a54-ef29-02fe9dc80de8"
      },
      "execution_count": 4,
      "outputs": [
        {
          "output_type": "stream",
          "name": "stdout",
          "text": [
            "=== معلومات الإصدارات ===\n",
            "TensorFlow: 2.19.0\n",
            "Python: 3.12.11 (main, Jun  4 2025, 08:56:18) [GCC 11.4.0]\n",
            "System: Linux 6.1.123+\n",
            "Processor: x86_64\n"
          ]
        }
      ]
    },
    {
      "cell_type": "code",
      "source": [],
      "metadata": {
        "id": "FRwt7_18O9eE"
      },
      "execution_count": null,
      "outputs": []
    }
  ]
}